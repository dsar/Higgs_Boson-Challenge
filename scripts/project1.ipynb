{
 "cells": [
  {
   "cell_type": "markdown",
   "metadata": {},
   "source": [
    "# PCML Project-1 ~ Team #60"
   ]
  },
  {
   "cell_type": "markdown",
   "metadata": {},
   "source": [
    "## Initial Python Imports"
   ]
  },
  {
   "cell_type": "code",
   "execution_count": 1,
   "metadata": {
    "collapsed": false
   },
   "outputs": [],
   "source": [
    "# Useful starting lines\n",
    "%matplotlib inline\n",
    "\n",
    "import numpy as np\n",
    "import matplotlib.pyplot as plt\n",
    "from test import *\n",
    "\n",
    "from costs import compute_loss\n",
    "\n",
    "%load_ext autoreload\n",
    "%autoreload 2"
   ]
  },
  {
   "cell_type": "markdown",
   "metadata": {},
   "source": [
    "## Load the training data into feature matrix, class labels, and event ids:"
   ]
  },
  {
   "cell_type": "code",
   "execution_count": 2,
   "metadata": {
    "collapsed": false,
    "scrolled": true
   },
   "outputs": [
    {
     "name": "stdout",
     "output_type": "stream",
     "text": [
      "y shape:  (200,)\n",
      "original tX shape:  (200, 30)\n",
      "ids shape:  (200,)\n"
     ]
    }
   ],
   "source": [
    "from proj1_helpers import *\n",
    "from helpers import *\n",
    "\n",
    "DATA_TRAIN_PATH = \"../Data/train.csv\" # TODO: download train data and supply path here \n",
    "y, tX, ids = load_csv_data(DATA_TRAIN_PATH)\n",
    "\n",
    "#print the shape of the offset x matrix.\n",
    "print('y shape: ',y.shape)\n",
    "print('original tX shape: ',tX.shape)\n",
    "print('ids shape: ',ids.shape)"
   ]
  },
  {
   "cell_type": "markdown",
   "metadata": {},
   "source": [
    "## Data preprocessing"
   ]
  },
  {
   "cell_type": "markdown",
   "metadata": {},
   "source": [
    "### Count Outliers - Extreme values"
   ]
  },
  {
   "cell_type": "code",
   "execution_count": 3,
   "metadata": {
    "collapsed": false
   },
   "outputs": [
    {
     "name": "stdout",
     "output_type": "stream",
     "text": [
      "feature:  0  ->  35.0\n",
      "feature:  1  ->  0.0\n",
      "feature:  2  ->  0.0\n",
      "feature:  3  ->  0.0\n",
      "feature:  4  ->  144.0\n",
      "feature:  5  ->  144.0\n",
      "feature:  6  ->  144.0\n",
      "feature:  7  ->  0.0\n",
      "feature:  8  ->  0.0\n",
      "feature:  9  ->  0.0\n",
      "feature:  10  ->  0.0\n",
      "feature:  11  ->  0.0\n",
      "feature:  12  ->  144.0\n",
      "feature:  13  ->  0.0\n",
      "feature:  14  ->  0.0\n",
      "feature:  15  ->  0.0\n",
      "feature:  16  ->  0.0\n",
      "feature:  17  ->  0.0\n",
      "feature:  18  ->  0.0\n",
      "feature:  19  ->  0.0\n",
      "feature:  20  ->  0.0\n",
      "feature:  21  ->  0.0\n",
      "feature:  22  ->  0.0\n",
      "feature:  23  ->  87.0\n",
      "feature:  24  ->  87.0\n",
      "feature:  25  ->  87.0\n",
      "feature:  26  ->  144.0\n",
      "feature:  27  ->  144.0\n",
      "feature:  28  ->  144.0\n",
      "feature:  29  ->  0.0\n"
     ]
    }
   ],
   "source": [
    "outliers = count_outliers(tX,-999)\n",
    "for feature in range(tX.shape[1]):\n",
    "    print('feature: ',feature,' -> ',outliers[feature])"
   ]
  },
  {
   "cell_type": "markdown",
   "metadata": {},
   "source": [
    "### Standardization"
   ]
  },
  {
   "cell_type": "code",
   "execution_count": 4,
   "metadata": {
    "collapsed": false
   },
   "outputs": [
    {
     "name": "stdout",
     "output_type": "stream",
     "text": [
      "200 30\n",
      "(200, 31)\n",
      "standardized tX shape:  (200, 30)\n"
     ]
    }
   ],
   "source": [
    "#standardization\n",
    "# tX, mean_x, std_x = standardize(tX, mean_x=None, std_x=None)\n",
    "tX_train, _, _ = standardize_outliers(tX)\n",
    "print('standardized tX shape: ',tX.shape)\n",
    "# print('tX mean shape: ',mean_x.shape)\n",
    "# print('tX std shape: ',std_x.shape)"
   ]
  },
  {
   "cell_type": "markdown",
   "metadata": {},
   "source": [
    "### Analysis of output y"
   ]
  },
  {
   "cell_type": "code",
   "execution_count": null,
   "metadata": {
    "collapsed": false
   },
   "outputs": [],
   "source": [
    "# Histogram of output y\n",
    "plt.hist(y, bins=10, align='mid')\n",
    "plt.title(\"Histogram of output y\")\n",
    "plt.show()"
   ]
  },
  {
   "cell_type": "markdown",
   "metadata": {},
   "source": [
    "### Analysis of y as a function of all its features (one by one)"
   ]
  },
  {
   "cell_type": "code",
   "execution_count": null,
   "metadata": {
    "collapsed": false
   },
   "outputs": [],
   "source": [
    "# Analyse y as a function of all the other features (one by one)\n",
    "plot_features_by_y(y,tX)"
   ]
  },
  {
   "cell_type": "markdown",
   "metadata": {},
   "source": [
    "## Linear regression using gradient descent"
   ]
  },
  {
   "cell_type": "code",
   "execution_count": null,
   "metadata": {
    "collapsed": false
   },
   "outputs": [],
   "source": [
    "from gradient_descent import least_squares_GD\n",
    "\n",
    "# Define the parameters of the algorithm.\n",
    "max_iters = 1000\n",
    "gamma = 0.01\n",
    "# Initialization\n",
    "w_initial = np.zeros(tX.shape[1])\n",
    "# Start gradient descent.\n",
    "gradient_losses, gradient_ws = least_squares_GD(y, tX, w_initial, gamma, max_iters)\n"
   ]
  },
  {
   "cell_type": "markdown",
   "metadata": {},
   "source": [
    "## Linear regression using stochastic gradient descent"
   ]
  },
  {
   "cell_type": "code",
   "execution_count": null,
   "metadata": {
    "collapsed": false
   },
   "outputs": [],
   "source": [
    "from stochastic_gradient_descent import least_squares_SGD\n",
    "\n",
    "# Define the parameters of the algorithm.\n",
    "max_iters = 1000\n",
    "gamma = 0.01\n",
    "batch_size = 1\n",
    "# Initialization\n",
    "w_initial = np.zeros(tX.shape[1])\n",
    "# Start SGD.\n",
    "stoch_gradient_losses, stoch_gradient_ws = least_squares_SGD(y, tX, w_initial, batch_size, gamma, max_iters)\n",
    "\n",
    "min_stoch_i, min_stoch_loss = get_min_param_index(stoch_gradient_losses)\n",
    "print('min index: ',min_stoch_i)\n",
    "print('min loss: ',min_stoch_loss)"
   ]
  },
  {
   "cell_type": "markdown",
   "metadata": {},
   "source": [
    "## Least squares regression using normal equations"
   ]
  },
  {
   "cell_type": "code",
   "execution_count": 5,
   "metadata": {
    "collapsed": false
   },
   "outputs": [
    {
     "name": "stdout",
     "output_type": "stream",
     "text": [
      "loss= 0.287011356531\n",
      "parameters w:  [  1.32072859e-01  -1.74548408e-01  -5.00980898e-01   2.73175014e-02\n",
      "   2.13390230e-01   3.93925310e-01   5.96666011e-01   3.15606760e-01\n",
      "  -7.58736928e-02  -8.60909375e+03  -3.52491021e-01   3.83822009e-02\n",
      "   1.24366889e-01   1.83641462e+03  -8.37425941e-02   3.75708779e-02\n",
      "   1.83863517e+03  -3.53866613e-02  -6.51340816e-02  -4.07964933e-02\n",
      "  -1.73901256e-01  -9.19789291e-02  -4.11455894e-01  -3.30316314e-02\n",
      "   6.68277778e-02  -8.70551927e-02  -1.54283157e-01  -7.00019248e-02\n",
      "  -6.61615669e-02   7.38826725e+03]\n"
     ]
    }
   ],
   "source": [
    "from least_squares import least_squares\n",
    "\n",
    "ls_wopt, ls_loss = least_squares(y,tX)\n",
    "print('loss=',ls_loss)\n",
    "print('parameters w: ',ls_wopt)"
   ]
  },
  {
   "cell_type": "markdown",
   "metadata": {},
   "source": [
    "## Ridge regression using normal equations"
   ]
  },
  {
   "cell_type": "code",
   "execution_count": 9,
   "metadata": {
    "collapsed": false
   },
   "outputs": [
    {
     "name": "stdout",
     "output_type": "stream",
     "text": [
      "[[ 5.     0.8  ]\n",
      " [ 0.     0.775]\n",
      " [ 0.     0.75 ]\n",
      " [ 0.     0.75 ]\n",
      " [ 1.     0.75 ]\n",
      " [ 5.     0.8  ]\n",
      " [ 0.     0.825]\n",
      " [ 5.     0.825]\n",
      " [ 2.     0.775]\n",
      " [ 4.     0.775]\n",
      " [ 0.     0.775]\n",
      " [ 2.     0.8  ]\n",
      " [ 0.     0.8  ]\n",
      " [ 4.     0.775]\n",
      " [ 0.     0.775]\n",
      " [ 2.     0.8  ]\n",
      " [ 0.     0.75 ]\n",
      " [ 2.     0.775]\n",
      " [ 0.     0.8  ]\n",
      " [ 3.     0.775]\n",
      " [ 0.     0.75 ]\n",
      " [ 0.     0.775]\n",
      " [ 2.     0.775]\n",
      " [ 0.     0.775]\n",
      " [ 0.     0.775]\n",
      " [ 0.     0.775]\n",
      " [ 0.     0.775]\n",
      " [ 2.     0.8  ]\n",
      " [ 0.     0.75 ]]\n",
      "(200, 40)\n",
      "[[ 5.     0.8  ]\n",
      " [ 0.     0.775]\n",
      " [ 0.     0.75 ]\n",
      " [ 0.     0.75 ]\n",
      " [ 1.     0.75 ]\n",
      " [ 5.     0.8  ]\n",
      " [ 0.     0.825]\n",
      " [ 5.     0.825]\n",
      " [ 2.     0.775]\n",
      " [ 4.     0.775]\n",
      " [ 0.     0.775]\n",
      " [ 2.     0.8  ]\n",
      " [ 0.     0.8  ]\n",
      " [ 4.     0.775]\n",
      " [ 0.     0.775]\n",
      " [ 2.     0.8  ]\n",
      " [ 0.     0.75 ]\n",
      " [ 2.     0.775]\n",
      " [ 0.     0.8  ]\n",
      " [ 3.     0.775]\n",
      " [ 0.     0.75 ]\n",
      " [ 0.     0.775]\n",
      " [ 2.     0.775]\n",
      " [ 0.     0.775]\n",
      " [ 0.     0.775]\n",
      " [ 0.     0.775]\n",
      " [ 0.     0.775]\n",
      " [ 2.     0.8  ]\n",
      " [ 0.     0.75 ]]\n",
      "(200, 40)\n",
      "[[ 5.     0.8  ]\n",
      " [ 0.     0.775]\n",
      " [ 0.     0.75 ]\n",
      " [ 0.     0.75 ]\n",
      " [ 1.     0.75 ]\n",
      " [ 5.     0.8  ]\n",
      " [ 0.     0.825]\n",
      " [ 5.     0.825]\n",
      " [ 2.     0.775]\n",
      " [ 4.     0.775]\n",
      " [ 0.     0.775]\n",
      " [ 2.     0.8  ]\n",
      " [ 0.     0.8  ]\n",
      " [ 4.     0.775]\n",
      " [ 0.     0.775]\n",
      " [ 2.     0.8  ]\n",
      " [ 0.     0.75 ]\n",
      " [ 2.     0.775]\n",
      " [ 0.     0.8  ]\n",
      " [ 3.     0.775]\n",
      " [ 0.     0.75 ]\n",
      " [ 0.     0.775]\n",
      " [ 2.     0.775]\n",
      " [ 0.     0.775]\n",
      " [ 0.     0.775]\n",
      " [ 0.     0.775]\n",
      " [ 0.     0.775]\n",
      " [ 2.     0.8  ]\n",
      " [ 0.     0.75 ]]\n",
      "(200, 40)\n",
      "[[ 5.     0.8  ]\n",
      " [ 0.     0.775]\n",
      " [ 0.     0.75 ]\n",
      " [ 0.     0.75 ]\n",
      " [ 1.     0.75 ]\n",
      " [ 5.     0.8  ]\n",
      " [ 0.     0.825]\n",
      " [ 5.     0.825]\n",
      " [ 2.     0.775]\n",
      " [ 4.     0.775]\n",
      " [ 0.     0.775]\n",
      " [ 2.     0.8  ]\n",
      " [ 0.     0.8  ]\n",
      " [ 4.     0.775]\n",
      " [ 0.     0.775]\n",
      " [ 2.     0.8  ]\n",
      " [ 0.     0.75 ]\n",
      " [ 2.     0.775]\n",
      " [ 0.     0.8  ]\n",
      " [ 3.     0.775]\n",
      " [ 0.     0.75 ]\n",
      " [ 0.     0.775]\n",
      " [ 2.     0.775]\n",
      " [ 0.     0.775]\n",
      " [ 0.     0.775]\n",
      " [ 0.     0.775]\n",
      " [ 0.     0.775]\n",
      " [ 2.     0.8  ]\n",
      " [ 0.     0.75 ]]\n",
      "(200, 40)\n",
      "[[ 5.     0.8  ]\n",
      " [ 0.     0.775]\n",
      " [ 0.     0.75 ]\n",
      " [ 0.     0.75 ]\n",
      " [ 1.     0.75 ]\n",
      " [ 5.     0.8  ]\n",
      " [ 0.     0.825]\n",
      " [ 5.     0.825]\n",
      " [ 2.     0.775]\n",
      " [ 4.     0.775]\n",
      " [ 0.     0.775]\n",
      " [ 2.     0.8  ]\n",
      " [ 0.     0.8  ]\n",
      " [ 4.     0.775]\n",
      " [ 0.     0.775]\n",
      " [ 2.     0.8  ]\n",
      " [ 0.     0.75 ]\n",
      " [ 2.     0.775]\n",
      " [ 0.     0.8  ]\n",
      " [ 3.     0.775]\n",
      " [ 0.     0.75 ]\n",
      " [ 0.     0.775]\n",
      " [ 2.     0.775]\n",
      " [ 0.     0.775]\n",
      " [ 0.     0.775]\n",
      " [ 0.     0.775]\n",
      " [ 0.     0.775]\n",
      " [ 2.     0.8  ]\n",
      " [ 0.     0.75 ]]\n",
      "(200, 40)\n",
      "0.877118032703\n"
     ]
    },
    {
     "data": {
      "image/png": "[encoded data removed]",
      "text/plain": [
       "<matplotlib.figure.Figure at 0x18bd713f048>"
      ]
     },
     "metadata": {},
     "output_type": "display_data"
    }
   ],
   "source": [
    "from ridge_regression import cross_validation_ridge_regression\n",
    "from build_polynomial import build_poly\n",
    "from poly import *\n",
    "from build_polynomial import *\n",
    "\n",
    "min_rr_rmse,best_rr_lambda = (cross_validation_ridge_regression(y,tX,k_fold=10))"
   ]
  },
  {
   "cell_type": "code",
   "execution_count": 10,
   "metadata": {
    "collapsed": false
   },
   "outputs": [
    {
     "name": "stdout",
     "output_type": "stream",
     "text": [
      "[[ 2.     0.825]\n",
      " [ 5.     0.8  ]\n",
      " [ 2.     0.775]\n",
      " [ 5.     0.775]\n",
      " [ 0.     0.75 ]\n",
      " [ 2.     0.775]\n",
      " [ 4.     0.8  ]\n",
      " [ 0.     0.825]\n",
      " [ 5.     0.825]\n",
      " [ 1.     0.75 ]\n",
      " [ 3.     0.775]\n",
      " [ 0.     0.75 ]\n",
      " [ 3.     0.8  ]\n",
      " [ 4.     0.8  ]\n",
      " [ 4.     0.775]\n",
      " [ 0.     0.75 ]\n",
      " [ 2.     0.775]\n",
      " [ 0.     0.775]\n",
      " [ 5.     0.775]\n",
      " [ 0.     0.775]\n",
      " [ 3.     0.775]\n",
      " [ 0.     0.775]\n",
      " [ 0.     0.75 ]\n",
      " [ 0.     0.75 ]\n",
      " [ 0.     0.775]\n",
      " [ 0.     0.775]\n",
      " [ 0.     0.75 ]\n",
      " [ 0.     0.775]\n",
      " [ 0.     0.775]\n",
      " [ 1.     0.75 ]]\n",
      "(200, 52)\n",
      "loss:  0.284033488627\n",
      "parameters w:  [-0.0263187   0.01158362 -0.03933718 -0.04891752 -0.01838251 -0.0511348\n",
      " -0.01086517  0.00664632  0.00693832 -0.03589002  0.0146597   0.0027643\n",
      "  0.01849414  0.01061297 -0.0043979   0.00883833  0.0152619   0.00113195\n",
      "  0.0174042  -0.01392594  0.0146732  -0.00250006 -0.00819308 -0.01044038\n",
      " -0.01719831  0.00492555  0.03537614 -0.02481036 -0.00364749 -0.01590135\n",
      "  0.00790204  0.00335939  0.01418658  0.031905   -0.00810612  0.02822154\n",
      " -0.00466199 -0.00741689 -0.01253939 -0.01842252 -0.02202067  0.00434623\n",
      "  0.00228775 -0.01810308 -0.01709596 -0.01162247 -0.03530801 -0.00351131\n",
      " -0.02062029 -0.02021249 -0.04719723  0.032214  ]\n"
     ]
    }
   ],
   "source": [
    "from ridge_regression import ridge_regression\n",
    "\n",
    "best_deg = find_best_poly(y, tX_train[:,1:],test_RR)\n",
    "opt_tr = build_optimal(tX_train[:,1:], best_deg)\n",
    "w_ridge, ridge_loss = ridge_regression(y, opt_tr,best_rr_lambda)\n",
    "\n",
    "print('loss: ',ridge_loss)\n",
    "print('parameters w: ',w_ridge)"
   ]
  },
  {
   "cell_type": "markdown",
   "metadata": {},
   "source": [
    "## Logistic regression using gradient descent or SGD"
   ]
  },
  {
   "cell_type": "code",
   "execution_count": 19,
   "metadata": {
    "collapsed": false
   },
   "outputs": [
    {
     "name": "stdout",
     "output_type": "stream",
     "text": [
      "[[ 2.     0.8  ]\n",
      " [ 2.     0.775]\n",
      " [ 2.     0.8  ]\n",
      " [ 0.     0.75 ]\n",
      " [ 0.     0.75 ]\n",
      " [ 0.     0.75 ]\n",
      " [ 0.     0.75 ]\n",
      " [ 0.     0.75 ]\n",
      " [ 5.     0.8  ]\n",
      " [ 0.     0.775]\n",
      " [ 0.     0.75 ]\n",
      " [ 0.     0.75 ]\n",
      " [ 0.     0.75 ]\n",
      " [ 0.     0.775]\n",
      " [ 0.     0.75 ]\n",
      " [ 0.     0.75 ]\n",
      " [ 3.     0.775]\n",
      " [ 0.     0.75 ]\n",
      " [ 0.     0.775]\n",
      " [ 2.     0.775]\n",
      " [ 2.     0.775]\n",
      " [ 0.     0.775]\n",
      " [ 0.     0.75 ]\n",
      " [ 2.     0.775]\n",
      " [ 5.     0.775]\n",
      " [ 0.     0.75 ]\n",
      " [ 0.     0.75 ]\n",
      " [ 0.     0.75 ]\n",
      " [ 0.     0.75 ]\n",
      " [ 0.     0.75 ]]\n",
      "(200, 26)\n",
      "Current iteration=0, the loss=0.6931471805599452\n",
      "Current iteration=1000, the loss=0.6894805130138838\n",
      "Current iteration=2000, the loss=0.6859511132297417\n",
      "Current iteration=3000, the loss=0.6824901078799939\n"
     ]
    }
   ],
   "source": [
    "from logistic_regression import logistic_regression_gradient_descent\n",
    "from plots import visualization\n",
    "\n",
    "best_deg = find_best_poly(y, tX_train[:,1:],test_LR)\n",
    "opt_tr = build_optimal(tX_train[:,1:], best_deg)\n",
    "lr_loss, lr_w = logistic_regression_gradient_descent(y, opt_tr)"
   ]
  },
  {
   "cell_type": "markdown",
   "metadata": {},
   "source": [
    "## Regularized logistic regression using gradient descent or SGD"
   ]
  },
  {
   "cell_type": "code",
   "execution_count": null,
   "metadata": {
    "collapsed": true
   },
   "outputs": [],
   "source": []
  },
  {
   "cell_type": "markdown",
   "metadata": {},
   "source": [
    "## Kaggle score Aproximation"
   ]
  },
  {
   "cell_type": "code",
   "execution_count": 12,
   "metadata": {
    "collapsed": false
   },
   "outputs": [
    {
     "name": "stdout",
     "output_type": "stream",
     "text": [
      "GD test\n",
      "parameters w:  [-0.03574765 -0.29307716 -0.25622237  0.02914541  0.01437547  0.15190617\n",
      "  0.22636287  0.28250279 -0.09065928  0.14286233 -0.14485509  0.04698598\n",
      "  0.18770091  0.1328155  -0.10799591  0.04080291  0.04158353 -0.05181993\n",
      " -0.10623274  0.09005564 -0.14231326 -0.00480513 -0.06340605  0.09870042\n",
      "  0.09999228 -0.16019252  0.08644647 -0.17649949 -0.11447075  0.12312552]\n"
     ]
    },
    {
     "data": {
      "text/plain": [
       "0.7"
      ]
     },
     "execution_count": 12,
     "metadata": {},
     "output_type": "execute_result"
    }
   ],
   "source": [
    "test_GD(y, tX, ratio=0.2)"
   ]
  },
  {
   "cell_type": "code",
   "execution_count": 13,
   "metadata": {
    "collapsed": false
   },
   "outputs": [
    {
     "name": "stdout",
     "output_type": "stream",
     "text": [
      "SGD test\n",
      "parameters w:  [-0.05156778 -0.18065851 -0.09073065 -0.00239607  0.02824679  0.05645477\n",
      "  0.01136668  0.14440678 -0.10286569  0.02112294 -0.1271831   0.07590447\n",
      "  0.08419775  0.05606966 -0.04511965  0.08109771 -0.13074    -0.03614835\n",
      " -0.08166958 -0.03843294 -0.11223096 -0.02342437 -0.01267796  0.05771319\n",
      "  0.08870854 -0.07798771  0.04068466 -0.08403514 -0.05952428  0.04321297]\n"
     ]
    },
    {
     "data": {
      "text/plain": [
       "0.675"
      ]
     },
     "execution_count": 13,
     "metadata": {},
     "output_type": "execute_result"
    }
   ],
   "source": [
    "test_SGD(y, tX, ratio=0.2,max_iters=10000)"
   ]
  },
  {
   "cell_type": "code",
   "execution_count": 14,
   "metadata": {
    "collapsed": false
   },
   "outputs": [
    {
     "data": {
      "text/plain": [
       "0.675"
      ]
     },
     "execution_count": 14,
     "metadata": {},
     "output_type": "execute_result"
    }
   ],
   "source": [
    "test_LS(y, tX, ratio=0.2)"
   ]
  },
  {
   "cell_type": "code",
   "execution_count": 15,
   "metadata": {
    "collapsed": false
   },
   "outputs": [
    {
     "data": {
      "text/plain": [
       "0.7"
      ]
     },
     "execution_count": 15,
     "metadata": {},
     "output_type": "execute_result"
    }
   ],
   "source": [
    "test_RR(y, opt_tr, ratio=0.2,lambda_=best_rr_lambda)"
   ]
  },
  {
   "cell_type": "code",
   "execution_count": 18,
   "metadata": {
    "collapsed": false
   },
   "outputs": [
    {
     "data": {
      "text/plain": [
       "0.65"
      ]
     },
     "execution_count": 18,
     "metadata": {},
     "output_type": "execute_result"
    }
   ],
   "source": [
    "test_LR(y, tX, ratio=0.2,threshold=0.5)"
   ]
  },
  {
   "cell_type": "code",
   "execution_count": null,
   "metadata": {
    "collapsed": true
   },
   "outputs": [],
   "source": [
    "# test_RLR(y, tX, ratio=0.2)"
   ]
  },
  {
   "cell_type": "markdown",
   "metadata": {},
   "source": [
    "## Generate predictions and save ouput in csv format for submission:"
   ]
  },
  {
   "cell_type": "code",
   "execution_count": null,
   "metadata": {
    "collapsed": false
   },
   "outputs": [],
   "source": [
    "# Gradient Descent\n",
    "weights = gradient_ws[-1]"
   ]
  },
  {
   "cell_type": "code",
   "execution_count": null,
   "metadata": {
    "collapsed": false
   },
   "outputs": [],
   "source": [
    "# Stochastic Gradient Descent\n",
    "weights = stoch_gradient_ws[min_stoch_i]"
   ]
  },
  {
   "cell_type": "code",
   "execution_count": null,
   "metadata": {
    "collapsed": false
   },
   "outputs": [],
   "source": [
    "# Least Squares\n",
    "weights = ls_wopt"
   ]
  },
  {
   "cell_type": "code",
   "execution_count": null,
   "metadata": {
    "collapsed": false
   },
   "outputs": [],
   "source": [
    "# Ridge Regression\n",
    "weights = w_ridge"
   ]
  },
  {
   "cell_type": "code",
   "execution_count": null,
   "metadata": {
    "collapsed": false
   },
   "outputs": [],
   "source": [
    "# Logistic Regression\n",
    "weights = lr_w"
   ]
  },
  {
   "cell_type": "code",
   "execution_count": null,
   "metadata": {
    "collapsed": true
   },
   "outputs": [],
   "source": [
    "# weights ="
   ]
  },
  {
   "cell_type": "code",
   "execution_count": null,
   "metadata": {
    "collapsed": false
   },
   "outputs": [],
   "source": [
    "DATA_TEST_PATH = \"../Data/test.csv\" # TODO: download test data and supply path here \n",
    "y_test, tX_test, ids_test = load_csv_data(DATA_TEST_PATH)\n",
    "tX_test, _, _ = standardize_outliers(tX_test)"
   ]
  },
  {
   "cell_type": "code",
   "execution_count": null,
   "metadata": {
    "collapsed": false
   },
   "outputs": [],
   "source": [
    "OUTPUT_PATH = '../Data/results.csv' # TODO: fill in desired name of output file for submission\n",
    "# y_pred = predict_logistic_labels(weights, tX_test,threshold=0.5)\n",
    "y_pred = predict_labels(weights, tX_test)\n",
    "create_csv_submission(ids_test, y_pred, OUTPUT_PATH)"
   ]
  },
  {
   "cell_type": "code",
   "execution_count": null,
   "metadata": {
    "collapsed": false
   },
   "outputs": [],
   "source": [
    "from poly import build_optimal\n",
    "\n",
    "OUTPUT_PATH = '../Data/results.csv' # TODO: fill in desired name of output file for submission\n",
    "\n",
    "tx = tX_test[:,1:]\n",
    "opt_tr = build_optimal(tx, best_deg)\n",
    "\n",
    "y_pred = predict_labels(w, opt_tr)\n",
    "create_csv_submission(ids_test, y_pred, OUTPUT_PATH)"
   ]
  },
  {
   "cell_type": "code",
   "execution_count": null,
   "metadata": {
    "collapsed": true
   },
   "outputs": [],
   "source": []
  }
 ],
 "metadata": {
  "anaconda-cloud": {},
  "kernelspec": {
   "display_name": "Python [Root]",
   "language": "python",
   "name": "Python [Root]"
  },
  "language_info": {
   "codemirror_mode": {
    "name": "ipython",
    "version": 3
   },
   "file_extension": ".py",
   "mimetype": "text/x-python",
   "name": "python",
   "nbconvert_exporter": "python",
   "pygments_lexer": "ipython3",
   "version": "3.5.2"
  }
 },
 "nbformat": 4,
 "nbformat_minor": 0
}
