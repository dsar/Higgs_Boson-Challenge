{
 "cells": [
  {
   "cell_type": "markdown",
   "metadata": {},
   "source": [
    "# PCML Project-1 ~ Team #60"
   ]
  },
  {
   "cell_type": "markdown",
   "metadata": {},
   "source": [
    "## Initial Python Imports"
   ]
  },
  {
   "cell_type": "code",
   "execution_count": 1,
   "metadata": {
    "collapsed": false
   },
   "outputs": [],
   "source": [
    "# Useful starting lines\n",
    "%matplotlib inline\n",
    "\n",
    "import numpy as np\n",
    "import matplotlib.pyplot as plt\n",
    "\n",
    "from costs import compute_loss\n",
    "from proj1_helpers import *\n",
    "\n",
    "%load_ext autoreload\n",
    "%autoreload 2"
   ]
  },
  {
   "cell_type": "markdown",
   "metadata": {},
   "source": [
    "## Load the training data into feature matrix, class labels, and event ids:"
   ]
  },
  {
   "cell_type": "code",
   "execution_count": 2,
   "metadata": {
    "collapsed": false,
    "scrolled": true
   },
   "outputs": [
    {
     "name": "stdout",
     "output_type": "stream",
     "text": [
      "y shape:  (200,)\n",
      "original tX shape:  (200, 30)\n",
      "ids shape:  (200,)\n"
     ]
    }
   ],
   "source": [
    "DATA_TRAIN_PATH = \"../Data/train30.csv\" # TODO: download train data and supply path here \n",
    "y, tX, ids = load_csv_data(DATA_TRAIN_PATH)\n",
    "\n",
    "#print the shape of the offset x matrix.\n",
    "print('y shape: ',y.shape)\n",
    "print('original tX shape: ',tX.shape)\n",
    "print('ids shape: ',ids.shape)"
   ]
  },
  {
   "cell_type": "markdown",
   "metadata": {},
   "source": [
    "## Data preprocessing"
   ]
  },
  {
   "cell_type": "markdown",
   "metadata": {},
   "source": [
    "### Count Outliers - Extreme values"
   ]
  },
  {
   "cell_type": "code",
   "execution_count": 3,
   "metadata": {
    "collapsed": false
   },
   "outputs": [
    {
     "name": "stdout",
     "output_type": "stream",
     "text": [
      "feature:  0  ->  35.0\n",
      "feature:  1  ->  0.0\n",
      "feature:  2  ->  0.0\n",
      "feature:  3  ->  0.0\n",
      "feature:  4  ->  144.0\n",
      "feature:  5  ->  144.0\n",
      "feature:  6  ->  144.0\n",
      "feature:  7  ->  0.0\n",
      "feature:  8  ->  0.0\n",
      "feature:  9  ->  0.0\n",
      "feature:  10  ->  0.0\n",
      "feature:  11  ->  0.0\n",
      "feature:  12  ->  144.0\n",
      "feature:  13  ->  0.0\n",
      "feature:  14  ->  0.0\n",
      "feature:  15  ->  0.0\n",
      "feature:  16  ->  0.0\n",
      "feature:  17  ->  0.0\n",
      "feature:  18  ->  0.0\n",
      "feature:  19  ->  0.0\n",
      "feature:  20  ->  0.0\n",
      "feature:  21  ->  0.0\n",
      "feature:  22  ->  0.0\n",
      "feature:  23  ->  87.0\n",
      "feature:  24  ->  87.0\n",
      "feature:  25  ->  87.0\n",
      "feature:  26  ->  144.0\n",
      "feature:  27  ->  144.0\n",
      "feature:  28  ->  144.0\n",
      "feature:  29  ->  0.0\n"
     ]
    }
   ],
   "source": [
    "outliers = count_outliers(tX,-999)\n",
    "for feature in range(tX.shape[1]):\n",
    "    print('feature: ',feature,' -> ',outliers[feature])"
   ]
  },
  {
   "cell_type": "markdown",
   "metadata": {},
   "source": [
    "### Standardization"
   ]
  },
  {
   "cell_type": "code",
   "execution_count": 3,
   "metadata": {
    "collapsed": false
   },
   "outputs": [
    {
     "name": "stdout",
     "output_type": "stream",
     "text": [
      "200 30\n",
      "(200, 31)\n",
      "standardized tX shape:  (200, 30)\n"
     ]
    }
   ],
   "source": [
    "#standardization\n",
    "# tX, mean_x, std_x = standardize(tX, mean_x=None, std_x=None)\n",
    "tX_train, _, _ = standardize_outliers(tX)\n",
    "print('standardized tX shape: ',tX.shape)\n",
    "# print('tX mean shape: ',mean_x.shape)\n",
    "# print('tX std shape: ',std_x.shape)"
   ]
  },
  {
   "cell_type": "markdown",
   "metadata": {},
   "source": [
    "### Analysis of output y"
   ]
  },
  {
   "cell_type": "code",
   "execution_count": null,
   "metadata": {
    "collapsed": false
   },
   "outputs": [],
   "source": [
    "# Histogram of output y\n",
    "plt.hist(y, bins=10, align='mid')\n",
    "plt.title(\"Histogram of output y\")\n",
    "plt.show()"
   ]
  },
  {
   "cell_type": "markdown",
   "metadata": {},
   "source": [
    "### Analysis of y as a function of all its features (one by one)"
   ]
  },
  {
   "cell_type": "code",
   "execution_count": null,
   "metadata": {
    "collapsed": false
   },
   "outputs": [],
   "source": [
    "# Analyse y as a function of all the other features (one by one)\n",
    "plot_features_by_y(y,tX)"
   ]
  },
  {
   "cell_type": "markdown",
   "metadata": {},
   "source": [
    "### Analysis of polynomial bases, feature by feature"
   ]
  },
  {
   "cell_type": "code",
   "execution_count": 18,
   "metadata": {
    "collapsed": false
   },
   "outputs": [
    {
     "name": "stdout",
     "output_type": "stream",
     "text": [
      "[[ 5.        0.77148 ]\n",
      " [ 5.        0.745616]\n",
      " [ 5.        0.767272]\n",
      " [ 5.        0.74788 ]\n",
      " [ 5.        0.747712]\n",
      " [ 5.        0.746608]\n",
      " [ 4.        0.745392]\n",
      " [ 4.        0.75208 ]\n",
      " [ 5.        0.744768]\n",
      " [ 4.        0.752344]\n",
      " [ 5.        0.749832]\n",
      " [ 0.        0.747256]\n",
      " [ 3.        0.746256]\n",
      " [ 5.        0.76056 ]\n",
      " [ 2.        0.746792]\n",
      " [ 1.        0.744032]\n",
      " [ 5.        0.744688]\n",
      " [ 4.        0.748096]\n",
      " [ 1.        0.744032]\n",
      " [ 0.        0.744448]\n",
      " [ 1.        0.744032]\n",
      " [ 5.        0.75064 ]\n",
      " [ 3.        0.746496]\n",
      " [ 5.        0.749736]\n",
      " [ 5.        0.74916 ]\n",
      " [ 1.        0.744032]\n",
      " [ 4.        0.744088]\n",
      " [ 4.        0.744672]\n",
      " [ 1.        0.744032]\n",
      " [ 5.        0.748272]]\n"
     ]
    }
   ],
   "source": [
    "from poly import *\n",
    "\n",
    "deg = find_best_poly(y, tX[:,1:])"
   ]
  },
  {
   "cell_type": "code",
   "execution_count": 21,
   "metadata": {
    "collapsed": false
   },
   "outputs": [
    {
     "name": "stdout",
     "output_type": "stream",
     "text": [
      "(250000, 108)\n"
     ]
    }
   ],
   "source": [
    "tX = build_optimal(y, tX[:,1:], deg)"
   ]
  },
  {
   "cell_type": "markdown",
   "metadata": {},
   "source": [
    "## Linear regression using gradient descent"
   ]
  },
  {
   "cell_type": "code",
   "execution_count": null,
   "metadata": {
    "collapsed": false
   },
   "outputs": [],
   "source": [
    "from gradient_descent import least_squares_GD\n",
    "\n",
    "# Define the parameters of the algorithm.\n",
    "max_iters = 1000\n",
    "gamma = 0.01\n",
    "# Initialization\n",
    "w_initial = np.zeros(tX.shape[1])\n",
    "# Start gradient descent.\n",
    "gradient_losses, gradient_ws = least_squares_GD(y, tX, w_initial, gamma, max_iters)\n"
   ]
  },
  {
   "cell_type": "markdown",
   "metadata": {},
   "source": [
    "## Linear regression using stochastic gradient descent"
   ]
  },
  {
   "cell_type": "code",
   "execution_count": null,
   "metadata": {
    "collapsed": false
   },
   "outputs": [],
   "source": [
    "from stochastic_gradient_descent import least_squares_SGD\n",
    "from stochastic_gradient_descent import get_min_param_index\n",
    "\n",
    "# Define the parameters of the algorithm.\n",
    "max_iters = 1000\n",
    "gamma = 0.01\n",
    "batch_size = 1\n",
    "# Initialization\n",
    "w_initial = np.zeros(tX.shape[1])\n",
    "# Start SGD.\n",
    "stoch_gradient_losses, stoch_gradient_ws = least_squares_SGD(y, tX, w_initial, batch_size, gamma, max_iters)\n",
    "\n",
    "min_stoch_i, min_stoch_loss = get_min_param_index(stoch_gradient_losses)\n",
    "print('min index: ',min_stoch_i)\n",
    "print('min loss: ',min_stoch_loss)"
   ]
  },
  {
   "cell_type": "markdown",
   "metadata": {},
   "source": [
    "## Least squares regression using normal equations"
   ]
  },
  {
   "cell_type": "code",
   "execution_count": null,
   "metadata": {
    "collapsed": false
   },
   "outputs": [],
   "source": [
    "from least_squares import least_squares\n",
    "\n",
    "ls_wopt, ls_loss = least_squares(y,tX)\n",
    "print('loss=',ls_loss)\n",
    "print('parameters w: ',ls_wopt)"
   ]
  },
  {
   "cell_type": "markdown",
   "metadata": {},
   "source": [
    "## Ridge regression using normal equations"
   ]
  },
  {
   "cell_type": "code",
   "execution_count": null,
   "metadata": {
    "collapsed": false
   },
   "outputs": [],
   "source": [
    "from ridge_regression import cross_validation_ridge_regression\n",
    "\n",
    "min_rr_rmse,best_rr_lambda = cross_validation_ridge_regression(y,tX,k_fold=10)\n",
    "print('min_rr_rmse: ',min_rr_rmse)\n",
    "print('best lambda: ', best_rr_lambda)"
   ]
  },
  {
   "cell_type": "code",
   "execution_count": null,
   "metadata": {
    "collapsed": false
   },
   "outputs": [],
   "source": [
    "from ridge_regression import ridge_regression\n",
    "from build_polynomial import find_best_poly,build_optimal\n",
    "from ridge_regression import test_RR\n",
    "\n",
    "best_deg = find_best_poly(y, tX_train[:,1:],test_RR)\n",
    "rr_opt_tr = build_optimal(tX_train[:,1:], best_deg)\n",
    "print('execute with best lambda: ',best_rr_lambda) ##1.43844988829\n",
    "w_ridge, ridge_loss = ridge_regression(y, rr_opt_tr,lamb=best_rr_lambda)\n",
    "\n",
    "print('loss: ',ridge_loss)\n",
    "print('parameters w: ',w_ridge)"
   ]
  },
  {
   "cell_type": "markdown",
   "metadata": {},
   "source": [
    "## Logistic regression using gradient descent or SGD"
   ]
  },
  {
   "cell_type": "code",
   "execution_count": null,
   "metadata": {
    "collapsed": false
   },
   "outputs": [],
   "source": [
    "from logistic_regression import *\n",
    "\n",
    "min_rlr_loss,best_rlr_lambda = cross_validation_logistic_regression(y,tX,k_fold=5)\n",
    "print('min_lr_loss: ',min_rlr_loss)\n",
    "print('best_lr_gamma: ',best_rlr_lambda)"
   ]
  },
  {
   "cell_type": "code",
   "execution_count": null,
   "metadata": {
    "collapsed": false
   },
   "outputs": [],
   "source": [
    "from logistic_regression import logistic_regression_gradient_descent\n",
    "\n",
    "best_deg = find_best_poly(y, tX_train[:,1:],test_LR)\n",
    "opt_tr = build_optimal(tX_train[:,1:], best_deg)\n",
    "# print('execute with best gamma: ', best_lr_gamma)\n",
    "lr_loss, lr_w = logistic_regression_gradient_descent(y, opt_tr)"
   ]
  },
  {
   "cell_type": "markdown",
   "metadata": {},
   "source": [
    "## Regularized logistic regression using gradient descent or SGD"
   ]
  },
  {
   "cell_type": "code",
   "execution_count": 12,
   "metadata": {
    "collapsed": false
   },
   "outputs": [
    {
     "name": "stdout",
     "output_type": "stream",
     "text": [
      "lambda:  1e-15\n",
      "[[ 2.     0.775]\n",
      " [ 2.     0.8  ]\n",
      " [ 0.     0.75 ]\n",
      " [ 0.     0.75 ]\n",
      " [ 0.     0.75 ]\n",
      " [ 0.     0.75 ]\n",
      " [ 2.     0.775]\n",
      " [ 5.     0.8  ]\n",
      " [ 0.     0.75 ]\n",
      " [ 0.     0.75 ]\n",
      " [ 0.     0.75 ]\n",
      " [ 0.     0.75 ]\n",
      " [ 0.     0.775]\n",
      " [ 0.     0.75 ]\n",
      " [ 0.     0.75 ]\n",
      " [ 3.     0.775]\n",
      " [ 0.     0.75 ]\n",
      " [ 0.     0.775]\n",
      " [ 2.     0.775]\n",
      " [ 2.     0.775]\n",
      " [ 0.     0.775]\n",
      " [ 0.     0.75 ]\n",
      " [ 3.     0.775]\n",
      " [ 0.     0.75 ]\n",
      " [ 0.     0.75 ]\n",
      " [ 0.     0.75 ]\n",
      " [ 0.     0.75 ]\n",
      " [ 0.     0.75 ]\n",
      " [ 0.     0.75 ]]\n",
      "(200, 22)\n",
      "Current iteration=0, the loss=0.6931471805599454\n",
      "Current iteration=1000, the loss=0.678088616581658\n",
      "Current iteration=2000, the loss=0.6642558857672575\n",
      "Current iteration=3000, the loss=0.651456586711144\n",
      "Current iteration=0, the loss=0.6931471805599454\n",
      "Current iteration=1000, the loss=0.6897125891437875\n",
      "Current iteration=2000, the loss=0.6866294908700157\n",
      "Current iteration=3000, the loss=0.6836207059952971\n",
      "Current iteration=0, the loss=0.6931471805599454\n",
      "Current iteration=1000, the loss=0.6906763504648722\n",
      "Current iteration=2000, the loss=0.6892393512178465\n",
      "Current iteration=3000, the loss=0.687856841851102\n",
      "Current iteration=0, the loss=0.6931471805599454\n",
      "Current iteration=1000, the loss=0.689551966733011\n",
      "Current iteration=2000, the loss=0.6861158201253685\n",
      "Current iteration=3000, the loss=0.6827511364678874\n",
      "Current iteration=0, the loss=0.6931471805599454\n",
      "Current iteration=1000, the loss=0.6884874254634632\n",
      "Current iteration=2000, the loss=0.6853133492084423\n",
      "Current iteration=3000, the loss=0.6822782524285467\n",
      "lambda:  3.16227766017e-11\n",
      "[[ 2.     0.775]\n",
      " [ 2.     0.8  ]\n",
      " [ 0.     0.75 ]\n",
      " [ 0.     0.75 ]\n",
      " [ 0.     0.75 ]\n",
      " [ 0.     0.75 ]\n",
      " [ 2.     0.775]\n",
      " [ 5.     0.8  ]\n",
      " [ 0.     0.75 ]\n",
      " [ 0.     0.75 ]\n",
      " [ 0.     0.75 ]\n",
      " [ 0.     0.75 ]\n",
      " [ 0.     0.775]\n",
      " [ 0.     0.75 ]\n",
      " [ 0.     0.75 ]\n",
      " [ 3.     0.775]\n",
      " [ 0.     0.75 ]\n",
      " [ 0.     0.775]\n",
      " [ 2.     0.775]\n",
      " [ 2.     0.775]\n",
      " [ 0.     0.775]\n",
      " [ 0.     0.75 ]\n",
      " [ 3.     0.775]\n",
      " [ 0.     0.75 ]\n",
      " [ 0.     0.75 ]\n",
      " [ 0.     0.75 ]\n",
      " [ 0.     0.75 ]\n",
      " [ 0.     0.75 ]\n",
      " [ 0.     0.75 ]]\n",
      "(200, 22)\n",
      "Current iteration=0, the loss=0.6931471805599454\n",
      "Current iteration=1000, the loss=0.6780886165816581\n",
      "Current iteration=2000, the loss=0.6642558857672578\n",
      "Current iteration=3000, the loss=0.6514565867111447\n",
      "Current iteration=0, the loss=0.6931471805599454\n",
      "Current iteration=1000, the loss=0.6897125891437875\n",
      "Current iteration=2000, the loss=0.6866294908700158\n",
      "Current iteration=3000, the loss=0.6836207059952972\n",
      "Current iteration=0, the loss=0.6931471805599454\n",
      "Current iteration=1000, the loss=0.6906763504648722\n",
      "Current iteration=2000, the loss=0.6892393512178465\n",
      "Current iteration=3000, the loss=0.6878568418511021\n",
      "Current iteration=0, the loss=0.6931471805599454\n",
      "Current iteration=1000, the loss=0.689551966733011\n",
      "Current iteration=2000, the loss=0.6861158201253686\n",
      "Current iteration=3000, the loss=0.6827511364678875\n",
      "Current iteration=0, the loss=0.6931471805599454\n",
      "Current iteration=1000, the loss=0.6884874254634632\n",
      "Current iteration=2000, the loss=0.6853133492084424\n",
      "Current iteration=3000, the loss=0.6822782524285468\n",
      "lambda:  1e-06\n",
      "[[ 2.     0.775]\n",
      " [ 2.     0.8  ]\n",
      " [ 0.     0.75 ]\n",
      " [ 0.     0.75 ]\n",
      " [ 0.     0.75 ]\n",
      " [ 0.     0.75 ]\n",
      " [ 2.     0.775]\n",
      " [ 5.     0.8  ]\n",
      " [ 0.     0.75 ]\n",
      " [ 0.     0.75 ]\n",
      " [ 0.     0.75 ]\n",
      " [ 0.     0.75 ]\n",
      " [ 0.     0.775]\n",
      " [ 0.     0.75 ]\n",
      " [ 0.     0.75 ]\n",
      " [ 3.     0.775]\n",
      " [ 0.     0.75 ]\n",
      " [ 0.     0.775]\n",
      " [ 2.     0.775]\n",
      " [ 2.     0.775]\n",
      " [ 0.     0.775]\n",
      " [ 0.     0.75 ]\n",
      " [ 3.     0.775]\n",
      " [ 0.     0.75 ]\n",
      " [ 0.     0.75 ]\n",
      " [ 0.     0.75 ]\n",
      " [ 0.     0.75 ]\n",
      " [ 0.     0.75 ]\n",
      " [ 0.     0.75 ]]\n",
      "(200, 22)\n",
      "Current iteration=0, the loss=0.6931471805599454\n",
      "Current iteration=1000, the loss=0.6780886165840817\n",
      "Current iteration=2000, the loss=0.6642558857765513\n",
      "Current iteration=3000, the loss=0.6514565867312435\n",
      "Current iteration=0, the loss=0.6931471805599454\n",
      "Current iteration=1000, the loss=0.689712589144332\n",
      "Current iteration=2000, the loss=0.6866294908720713\n",
      "Current iteration=3000, the loss=0.6836207059998083\n",
      "Current iteration=0, the loss=0.6931471805599454\n",
      "Current iteration=1000, the loss=0.6906763504652412\n",
      "Current iteration=2000, the loss=0.6892393512189579\n",
      "Current iteration=3000, the loss=0.687856841853346\n",
      "Current iteration=0, the loss=0.6931471805599454\n",
      "Current iteration=1000, the loss=0.6895519667335871\n",
      "Current iteration=2000, the loss=0.6861158201276188\n",
      "Current iteration=3000, the loss=0.6827511364728799\n",
      "Current iteration=0, the loss=0.6931471805599454\n",
      "Current iteration=1000, the loss=0.6884874254641745\n",
      "Current iteration=2000, the loss=0.6853133492107659\n",
      "Current iteration=3000, the loss=0.6822782524333723\n",
      "lambda:  0.0316227766017\n",
      "[[ 2.     0.775]\n",
      " [ 2.     0.8  ]\n",
      " [ 0.     0.75 ]\n",
      " [ 0.     0.75 ]\n",
      " [ 0.     0.75 ]\n",
      " [ 0.     0.75 ]\n",
      " [ 2.     0.775]\n",
      " [ 5.     0.8  ]\n",
      " [ 0.     0.75 ]\n",
      " [ 0.     0.75 ]\n",
      " [ 0.     0.75 ]\n",
      " [ 0.     0.75 ]\n",
      " [ 0.     0.775]\n",
      " [ 0.     0.75 ]\n",
      " [ 0.     0.75 ]\n",
      " [ 3.     0.775]\n",
      " [ 0.     0.75 ]\n",
      " [ 0.     0.775]\n",
      " [ 2.     0.775]\n",
      " [ 2.     0.775]\n",
      " [ 0.     0.775]\n",
      " [ 0.     0.75 ]\n",
      " [ 3.     0.775]\n",
      " [ 0.     0.75 ]\n",
      " [ 0.     0.75 ]\n",
      " [ 0.     0.75 ]\n",
      " [ 0.     0.75 ]\n",
      " [ 0.     0.75 ]\n",
      " [ 0.     0.75 ]]\n",
      "(200, 22)\n",
      "Current iteration=0, the loss=0.6931471805599454\n",
      "Current iteration=1000, the loss=0.6780886932227134\n",
      "Current iteration=2000, the loss=0.6642561796626395\n",
      "Current iteration=3000, the loss=0.6514572223150723\n",
      "Current iteration=0, the loss=0.6931471805599454\n",
      "Current iteration=1000, the loss=0.6897126063608019\n",
      "Current iteration=2000, the loss=0.6866295558724775\n",
      "Current iteration=3000, the loss=0.6836208486527353\n",
      "Current iteration=0, the loss=0.6931471805599454\n",
      "Current iteration=1000, the loss=0.6906763621341456\n",
      "Current iteration=2000, the loss=0.6892393863593339\n",
      "Current iteration=3000, the loss=0.6878569128117329\n",
      "Current iteration=0, the loss=0.6931471805599454\n",
      "Current iteration=1000, the loss=0.689551984952515\n",
      "Current iteration=2000, the loss=0.6861158912913247\n",
      "Current iteration=3000, the loss=0.6827512943461052\n",
      "Current iteration=0, the loss=0.6931471805599454\n",
      "Current iteration=1000, the loss=0.6884874479562894\n",
      "Current iteration=2000, the loss=0.685313422687893\n",
      "Current iteration=3000, the loss=0.6822784050241146\n",
      "lambda:  1000.0\n",
      "[[ 2.     0.775]\n",
      " [ 2.     0.8  ]\n",
      " [ 0.     0.75 ]\n",
      " [ 0.     0.75 ]\n",
      " [ 0.     0.75 ]\n",
      " [ 0.     0.75 ]\n",
      " [ 2.     0.775]\n",
      " [ 5.     0.8  ]\n",
      " [ 0.     0.75 ]\n",
      " [ 0.     0.75 ]\n",
      " [ 0.     0.75 ]\n",
      " [ 0.     0.75 ]\n",
      " [ 0.     0.775]\n",
      " [ 0.     0.75 ]\n",
      " [ 0.     0.75 ]\n",
      " [ 3.     0.775]\n",
      " [ 0.     0.75 ]\n",
      " [ 0.     0.775]\n",
      " [ 2.     0.775]\n",
      " [ 2.     0.775]\n",
      " [ 0.     0.775]\n",
      " [ 0.     0.75 ]\n",
      " [ 3.     0.775]\n",
      " [ 0.     0.75 ]\n",
      " [ 0.     0.75 ]\n",
      " [ 0.     0.75 ]\n",
      " [ 0.     0.75 ]\n",
      " [ 0.     0.75 ]\n",
      " [ 0.     0.75 ]]\n",
      "(200, 22)\n",
      "Current iteration=0, the loss=0.6931471805599454\n",
      "Current iteration=1000, the loss=0.68050743698591\n",
      "Current iteration=2000, the loss=0.6735132401597735\n",
      "Current iteration=0, the loss=0.6931471805599454\n",
      "Current iteration=1000, the loss=0.6902559785489933\n",
      "Current iteration=2000, the loss=0.688677013831385\n",
      "Current iteration=3000, the loss=0.6881054265631042\n",
      "Current iteration=0, the loss=0.6931471805599454\n",
      "Current iteration=1000, the loss=0.6910446993767364\n",
      "Current iteration=2000, the loss=0.6903465650335926\n",
      "Current iteration=3000, the loss=0.6900882360606648\n",
      "Current iteration=0, the loss=0.6931471805599454\n",
      "Current iteration=1000, the loss=0.6901269811251216\n",
      "Current iteration=2000, the loss=0.6883574075935387\n",
      "Current iteration=3000, the loss=0.6877141785627997\n",
      "Current iteration=0, the loss=0.6931471805599454\n",
      "Current iteration=1000, the loss=0.6891973895055133\n",
      "Current iteration=2000, the loss=0.6876282488272505\n",
      "Current iteration=3000, the loss=0.6870762127452694\n",
      "min_rlr_rmse:  0.7092800669153165\n",
      "best lambda:  1000.0\n"
     ]
    },
    {
     "data": {
      "image/png": "[encoded data removed]",
      "text/plain": [
       "<matplotlib.figure.Figure at 0x25edce042b0>"
      ]
     },
     "metadata": {},
     "output_type": "display_data"
    }
   ],
   "source": [
    "from regularized_logistic_regression import cross_validation_regularized_logistic_regression\n",
    "\n",
    "min_rlr_rmse,best_rlr_lambda = cross_validation_regularized_logistic_regression(y,tX,k_fold=5)\n",
    "print('min_rlr_rmse: ',min_rlr_rmse)\n",
    "print('best lambda: ', best_rlr_lambda)"
   ]
  },
  {
   "cell_type": "code",
   "execution_count": null,
   "metadata": {
    "collapsed": false
   },
   "outputs": [],
   "source": [
    "from regularized_logistic_regression import regularized_logistic_regression_gradient_descent\n",
    "from build_polynomial import find_best_poly,build_optimal \n",
    "from regularized_logistic_regression import test_RLR\n",
    "\n",
    "best_deg = find_best_poly(y, tX_train[:,1:],test_RLR)\n",
    "rlr_opt_tr = build_optimal(tX_train[:,1:], best_deg)\n",
    "print('execute with best lambda: ', best_rlr_lambda)\n",
    "rlr_loss, rlr_w = regular_logistic_regression_gradient_descent(y, rlr_opt_tr)"
   ]
  },
  {
   "cell_type": "markdown",
   "metadata": {},
   "source": [
    "## Kaggle score Aproximation"
   ]
  },
  {
   "cell_type": "code",
   "execution_count": 18,
   "metadata": {
    "collapsed": false
   },
   "outputs": [
    {
     "name": "stdout",
     "output_type": "stream",
     "text": [
      "parameters w:  [-0.03574765 -0.29307716 -0.25622237  0.02914541  0.01437547  0.15190617\n",
      "  0.22636287  0.28250279 -0.09065928  0.14286233 -0.14485509  0.04698598\n",
      "  0.18770091  0.1328155  -0.10799591  0.04080291  0.04158353 -0.05181993\n",
      " -0.10623274  0.09005564 -0.14231326 -0.00480513 -0.06340605  0.09870042\n",
      "  0.09999228 -0.16019252  0.08644647 -0.17649949 -0.11447075  0.12312552]\n"
     ]
    },
    {
     "data": {
      "text/plain": [
       "0.7"
      ]
     },
     "execution_count": 18,
     "metadata": {},
     "output_type": "execute_result"
    }
   ],
   "source": [
    "from gradient_descent import test_GD\n",
    "test_GD(y, tX, ratio=0.2)"
   ]
  },
  {
   "cell_type": "code",
   "execution_count": 20,
   "metadata": {
    "collapsed": false
   },
   "outputs": [
    {
     "name": "stdout",
     "output_type": "stream",
     "text": [
      "parameters w:  [-0.05156778 -0.18065851 -0.09073065 -0.00239607  0.02824679  0.05645477\n",
      "  0.01136668  0.14440678 -0.10286569  0.02112294 -0.1271831   0.07590447\n",
      "  0.08419775  0.05606966 -0.04511965  0.08109771 -0.13074    -0.03614835\n",
      " -0.08166958 -0.03843294 -0.11223096 -0.02342437 -0.01267796  0.05771319\n",
      "  0.08870854 -0.07798771  0.04068466 -0.08403514 -0.05952428  0.04321297]\n"
     ]
    },
    {
     "data": {
      "text/plain": [
       "0.675"
      ]
     },
     "execution_count": 20,
     "metadata": {},
     "output_type": "execute_result"
    }
   ],
   "source": [
    "from stochastic_gradient_descent import test_SGD\n",
    "test_SGD(y, tX, ratio=0.2,max_iters=10000)"
   ]
  },
  {
   "cell_type": "code",
   "execution_count": 22,
   "metadata": {
    "collapsed": false
   },
   "outputs": [
    {
     "data": {
      "text/plain": [
       "0.675"
      ]
     },
     "execution_count": 22,
     "metadata": {},
     "output_type": "execute_result"
    }
   ],
   "source": [
    "from least_squares import test_LS\n",
    "test_LS(y, tX, ratio=0.2)"
   ]
  },
  {
   "cell_type": "code",
   "execution_count": 26,
   "metadata": {
    "collapsed": false
   },
   "outputs": [
    {
     "data": {
      "text/plain": [
       "0.675"
      ]
     },
     "execution_count": 26,
     "metadata": {},
     "output_type": "execute_result"
    }
   ],
   "source": [
    "from ridge_regression import test_RR\n",
    "print('execute with best lambda: ',best_rr_lambda)\n",
    "test_RR(y, rr_opt_tr, ratio=0.2,lambda_=best_rr_lambda)"
   ]
  },
  {
   "cell_type": "code",
   "execution_count": 28,
   "metadata": {
    "collapsed": false
   },
   "outputs": [
    {
     "data": {
      "text/plain": [
       "0.65"
      ]
     },
     "execution_count": 28,
     "metadata": {},
     "output_type": "execute_result"
    }
   ],
   "source": [
    "from logistic_regression import test_LR\n",
    "test_LR(y, lr_opt_tr,ratio=0.2, threshold=0.5)"
   ]
  },
  {
   "cell_type": "code",
   "execution_count": null,
   "metadata": {
    "collapsed": true
   },
   "outputs": [],
   "source": [
    "from regularized_logistic_regression import test_RLR\n",
    "test_RLR(y, tX, ratio=0.2)"
   ]
  },
  {
   "cell_type": "markdown",
   "metadata": {},
   "source": [
    "## Generate predictions and save ouput in csv format for submission:"
   ]
  },
  {
   "cell_type": "code",
   "execution_count": null,
   "metadata": {
    "collapsed": false
   },
   "outputs": [],
   "source": [
    "# Gradient Descent\n",
    "weights = gradient_ws[-1]"
   ]
  },
  {
   "cell_type": "code",
   "execution_count": null,
   "metadata": {
    "collapsed": false
   },
   "outputs": [],
   "source": [
    "# Stochastic Gradient Descent\n",
    "weights = stoch_gradient_ws[min_stoch_i]"
   ]
  },
  {
   "cell_type": "code",
   "execution_count": null,
   "metadata": {
    "collapsed": false
   },
   "outputs": [],
   "source": [
    "# Least Squares\n",
    "weights = ls_wopt"
   ]
  },
  {
   "cell_type": "code",
   "execution_count": null,
   "metadata": {
    "collapsed": false
   },
   "outputs": [],
   "source": [
    "# Ridge Regression\n",
    "weights = w_ridge"
   ]
  },
  {
   "cell_type": "code",
   "execution_count": null,
   "metadata": {
    "collapsed": false
   },
   "outputs": [],
   "source": [
    "# Logistic Regression\n",
    "weights = lr_w"
   ]
  },
  {
   "cell_type": "code",
   "execution_count": null,
   "metadata": {
    "collapsed": true
   },
   "outputs": [],
   "source": [
    "# weights ="
   ]
  },
  {
   "cell_type": "code",
   "execution_count": null,
   "metadata": {
    "collapsed": false
   },
   "outputs": [],
   "source": [
    "DATA_TEST_PATH = \"../Data/test.csv\" # TODO: download test data and supply path here \n",
    "y_test, tX_test, ids_test = load_csv_data(DATA_TEST_PATH)\n",
    "tX_test, _, _ = standardize_outliers(tX_test)"
   ]
  },
  {
   "cell_type": "code",
   "execution_count": null,
   "metadata": {
    "collapsed": false
   },
   "outputs": [],
   "source": [
    "OUTPUT_PATH = '../Data/results.csv' # TODO: fill in desired name of output file for submission\n",
    "# y_pred = predict_logistic_labels(weights, tX_test,threshold=0.5)\n",
    "y_pred = predict_labels(weights, tX_test)\n",
    "create_csv_submission(ids_test, y_pred, OUTPUT_PATH)"
   ]
  },
  {
   "cell_type": "code",
   "execution_count": null,
   "metadata": {
    "collapsed": false
   },
   "outputs": [],
   "source": [
    "from poly import build_optimal\n",
    "\n",
    "OUTPUT_PATH = '../Data/results.csv' # TODO: fill in desired name of output file for submission\n",
    "\n",
    "tx = tX_test[:,1:]\n",
    "opt_tr = build_optimal(tx, best_deg)\n",
    "\n",
    "y_pred = predict_labels(w, opt_tr)\n",
    "create_csv_submission(ids_test, y_pred, OUTPUT_PATH)"
   ]
  },
  {
   "cell_type": "code",
   "execution_count": null,
   "metadata": {
    "collapsed": true
   },
   "outputs": [],
   "source": []
  }
 ],
 "metadata": {
  "anaconda-cloud": {},
  "kernelspec": {
   "display_name": "Python [Root]",
   "language": "python",
   "name": "Python [Root]"
  },
  "language_info": {
   "codemirror_mode": {
    "name": "ipython",
    "version": 3
   },
   "file_extension": ".py",
   "mimetype": "text/x-python",
   "name": "python",
   "nbconvert_exporter": "python",
   "pygments_lexer": "ipython3",
   "version": "3.5.2"
  }
 },
 "nbformat": 4,
 "nbformat_minor": 0
}
