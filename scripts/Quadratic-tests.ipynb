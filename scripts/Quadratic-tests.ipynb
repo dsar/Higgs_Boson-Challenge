{
 "cells": [
  {
   "cell_type": "code",
   "execution_count": null,
   "metadata": {
    "collapsed": false
   },
   "outputs": [],
   "source": [
    "# Useful starting lines\n",
    "%matplotlib inline\n",
    "\n",
    "import numpy as np\n",
    "import matplotlib.pyplot as plt\n",
    "from helpers import *\n",
    "\n",
    "%load_ext autoreload\n",
    "%autoreload 2"
   ]
  },
  {
   "cell_type": "markdown",
   "metadata": {},
   "source": [
    "## Loading"
   ]
  },
  {
   "cell_type": "code",
   "execution_count": null,
   "metadata": {
    "collapsed": false,
    "scrolled": true
   },
   "outputs": [],
   "source": [
    "from proj1_helpers import *\n",
    "DATA_TRAIN_PATH = \"../Data/train.csv\"\n",
    "y_train, x_train, _ = load_csv_data(DATA_TRAIN_PATH, sub_sample=True)\n",
    "\n",
    "print(\"Loaded training data with dimensions \", x_train.shape)"
   ]
  },
  {
   "cell_type": "code",
   "execution_count": null,
   "metadata": {
    "collapsed": true
   },
   "outputs": [],
   "source": [
    "y_train_source = y_train\n",
    "x_train_source = x_train"
   ]
  },
  {
   "cell_type": "markdown",
   "metadata": {},
   "source": [
    "## Standardization"
   ]
  },
  {
   "cell_type": "code",
   "execution_count": null,
   "metadata": {
    "collapsed": false
   },
   "outputs": [],
   "source": [
    "from helpers import standardize_outliers\n",
    "# Standardize the data and replace undefined values with the mean, column by column\n",
    "x_train, _, _ = standardize_outliers(x_train_source)"
   ]
  },
  {
   "cell_type": "markdown",
   "metadata": {},
   "source": [
    "## Feature selection"
   ]
  },
  {
   "cell_type": "code",
   "execution_count": null,
   "metadata": {
    "collapsed": false
   },
   "outputs": [],
   "source": [
    "from quadratic_array import *\n",
    "indices = select_features(x_train, y_train_source, 0.02)\n",
    "indices, len(indices)"
   ]
  },
  {
   "cell_type": "code",
   "execution_count": null,
   "metadata": {
    "collapsed": false
   },
   "outputs": [],
   "source": [
    "from quadratic_array import *\n",
    "restricted_x_train = x_train[:,indices]\n",
    "quadratic_restricted_x_train = build_quadratic_array(restricted_x_train)\n",
    "quadratic_restricted_x_train.shape"
   ]
  },
  {
   "cell_type": "markdown",
   "metadata": {},
   "source": [
    "## Implementing different models"
   ]
  },
  {
   "cell_type": "markdown",
   "metadata": {},
   "source": [
    "#### adding offset term"
   ]
  },
  {
   "cell_type": "code",
   "execution_count": null,
   "metadata": {
    "collapsed": false
   },
   "outputs": [],
   "source": [
    "N = x_train.shape[0]\n",
    "tx_train = np.c_[np.ones((N, 1)), quadratic_restricted_x_train]\n",
    "tx_train.shape"
   ]
  },
  {
   "cell_type": "markdown",
   "metadata": {},
   "source": [
    "<b>Splitting into train and test set</b>"
   ]
  },
  {
   "cell_type": "code",
   "execution_count": null,
   "metadata": {
    "collapsed": false
   },
   "outputs": [],
   "source": [
    "from helpers import split_data\n",
    "tx_train, y_train, tx_test, y_test = split_data(tx_train, y_train_source, 0.66)"
   ]
  },
  {
   "cell_type": "markdown",
   "metadata": {},
   "source": [
    "Linear regression using gradient descent"
   ]
  },
  {
   "cell_type": "code",
   "execution_count": null,
   "metadata": {
    "collapsed": false
   },
   "outputs": [],
   "source": [
    "from gradient_descent import least_squares_GD\n",
    "from proj1_helpers import predict_labels\n",
    "from helpers import *\n",
    "\n",
    "# Define the parameters of the algorithm.\n",
    "max_iters = 1000\n",
    "gamma = 0.01\n",
    "\n",
    "# Initialization\n",
    "D = tx_train.shape[1]\n",
    "w_initial = np.zeros(D)\n",
    "\n",
    "# Start gradient descent.\n",
    "loss, w = least_squares_GD(y_train, tx_train, w_initial, gamma, max_iters, print_=False)\n",
    "\n",
    "# Score\n",
    "s_test = score(tx_test, y_test, w[-1])\n",
    "print('Score well classified (test) : ', s_test)\n",
    "s_train = score(tx_train, y_train, w[-1])\n",
    "print('Score well classified (train) : ', s_train)"
   ]
  },
  {
   "cell_type": "markdown",
   "metadata": {},
   "source": [
    "Least squares regression using normal equations"
   ]
  },
  {
   "cell_type": "code",
   "execution_count": null,
   "metadata": {
    "collapsed": false
   },
   "outputs": [],
   "source": [
    "from least_squares import least_squares\n",
    "\n",
    "# least squares\n",
    "w, loss = least_squares(y_train,tx_train)\n",
    "\n",
    "# Score\n",
    "print('parameters w:', w)\n",
    "print('min loss : ', loss)\n",
    "s_test = score(tx_test, y_test, w)\n",
    "print('Score well classified (test) : ', s_test)\n",
    "s_train = score(tx_train, y_train, w)\n",
    "print('Score well classified (train) : ', s_train)"
   ]
  },
  {
   "cell_type": "markdown",
   "metadata": {},
   "source": [
    "Ridge regression using normal equations"
   ]
  },
  {
   "cell_type": "code",
   "execution_count": null,
   "metadata": {
    "collapsed": false
   },
   "outputs": [],
   "source": [
    "from ridge_regression import ridge_regression\n",
    "\n",
    "# least squares\n",
    "w, loss = ridge_regression(y_train,tx_train, 0.01)\n",
    "\n",
    "# Score\n",
    "print('parameters w:', w)\n",
    "print('min loss : ', loss)\n",
    "s_test = score(tx_test, y_test, w)\n",
    "print('Score well classified (test) : ', s_test)\n",
    "s_train = score(tx_train, y_train, w)\n",
    "print('Score well classified (train) : ', s_train)"
   ]
  },
  {
   "cell_type": "markdown",
   "metadata": {},
   "source": [
    "Logistic regression using gradient descent"
   ]
  },
  {
   "cell_type": "code",
   "execution_count": null,
   "metadata": {
    "collapsed": false
   },
   "outputs": [],
   "source": [
    "from logistic_regression import logistic_regression\n",
    "\n",
    "# Define the parameters of the algorithm.\n",
    "max_iters = 10000\n",
    "gamma = 0.01      \n",
    "\n",
    "# Initialization\n",
    "D = tx_train.shape[1]\n",
    "w_initial = np.zeros(D) \n",
    "\n",
    "w, loss = logistic_regression(y_train, tx_train, w_initial, max_iters, gamma)\n",
    "\n",
    "# Score\n",
    "print('parameters w:', w)\n",
    "print('min loss : ', loss)\n",
    "s_test = score(tx_test, y_test, w)\n",
    "print('Score well classified (test) : ', s_test)\n",
    "s_train = score(tx_train, y_train, w)\n",
    "print('Score well classified (train) : ', s_train)"
   ]
  },
  {
   "cell_type": "markdown",
   "metadata": {},
   "source": [
    "Regularized logistic regression using gradient descent"
   ]
  },
  {
   "cell_type": "code",
   "execution_count": null,
   "metadata": {
    "collapsed": false,
    "scrolled": true
   },
   "outputs": [],
   "source": [
    "from logistic_regression import reg_logistic_regression\n",
    "\n",
    "# Define the parameters of the algorithm.\n",
    "max_iters = 10000\n",
    "gamma = 0.01     \n",
    "lambda_ = 0.1\n",
    "\n",
    "# Initialization\n",
    "D = tx_train.shape[1]\n",
    "w_initial = np.zeros(D) \n",
    "\n",
    "w, loss = reg_logistic_regression(y_train, tx_train, lambda_, w_initial, max_iters, gamma)\n",
    "\n",
    "# Score\n",
    "print('parameters w:', w)\n",
    "print('min loss : ', loss)\n",
    "s_test = score(tx_test, y_test, w)\n",
    "print('Score well classified (test) : ', s_test)\n",
    "s_train = score(tx_train, y_train, w)\n",
    "print('Score well classified (train) : ', s_train)"
   ]
  },
  {
   "cell_type": "code",
   "execution_count": null,
   "metadata": {
    "collapsed": false
   },
   "outputs": [],
   "source": [
    "from proj1_helpers import *\n",
    "DATA_TEST_PATH = \"../Data/train.csv\"\n",
    "OUTPUT_PATH = 'pred_1.csv'\n",
    "y_test, x_test, ids_test = load_csv_data(DATA_TEST_PATH)\n",
    "\n",
    "restricted_x_test = x_test[:,indices]\n",
    "quadratic_restricted_x_test = build_quadratic_array(restricted_x_test)\n",
    "\n",
    "N_test = x_test.shape[0]\n",
    "tx_test = np.c_[np.ones((N_test, 1)), quadratic_restricted_x_test]\n",
    "\n",
    "w, loss = least_squares(y_train,tx_train)\n",
    "\n",
    "y_pred = predict_labels(w, tx_test)\n",
    "create_csv_submission(ids_test, y_pred, OUTPUT_PATH)"
   ]
  },
  {
   "cell_type": "code",
   "execution_count": null,
   "metadata": {
    "collapsed": false
   },
   "outputs": [],
   "source": [
    "y_pred.shape"
   ]
  },
  {
   "cell_type": "code",
   "execution_count": null,
   "metadata": {
    "collapsed": false
   },
   "outputs": [],
   "source": [
    "ids_test.shape"
   ]
  }
 ],
 "metadata": {
  "anaconda-cloud": {},
  "kernelspec": {
   "display_name": "Python [Root]",
   "language": "python",
   "name": "Python [Root]"
  },
  "language_info": {
   "codemirror_mode": {
    "name": "ipython",
    "version": 3
   },
   "file_extension": ".py",
   "mimetype": "text/x-python",
   "name": "python",
   "nbconvert_exporter": "python",
   "pygments_lexer": "ipython3",
   "version": "3.5.2"
  }
 },
 "nbformat": 4,
 "nbformat_minor": 1
}
